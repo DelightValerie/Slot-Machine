{
 "cells": [
  {
   "cell_type": "code",
   "execution_count": 1,
   "id": "7b7a852b",
   "metadata": {},
   "outputs": [],
   "source": [
    "import random"
   ]
  },
  {
   "cell_type": "code",
   "execution_count": 2,
   "id": "235be264",
   "metadata": {},
   "outputs": [],
   "source": [
    "MAX_LINES = 3\n",
    "MAX_BET = 100\n",
    "MIN_BET = 1"
   ]
  },
  {
   "cell_type": "code",
   "execution_count": 3,
   "id": "6d3ca775",
   "metadata": {},
   "outputs": [],
   "source": [
    "ROWS = 3\n",
    "COLS = 3"
   ]
  },
  {
   "cell_type": "code",
   "execution_count": 4,
   "id": "ca362d51",
   "metadata": {},
   "outputs": [],
   "source": [
    "symbol_count = {\n",
    "    \"A\": 2,\n",
    "    \"B\": 4,\n",
    "    \"C\": 6,\n",
    "    \"D\": 8,\n",
    "}"
   ]
  },
  {
   "cell_type": "code",
   "execution_count": 5,
   "id": "d0e996ab",
   "metadata": {},
   "outputs": [],
   "source": [
    "def get_slot_machine_spin(rows, cols, sysmbols):\n",
    "    all_symbols = []\n",
    "    for symbol, symbol_count in sysmbols.items():\n",
    "        for row in range(symbol_count):\n",
    "            all_symbols.append(symbol)\n",
    "            \n",
    "    columns = []\n",
    "    for col in range(cols):\n",
    "        column = []\n",
    "        current_symbols = all_symbols[:] #slice operator\n",
    "        for col in range(rows):\n",
    "            value = random.choice(current_symbols)\n",
    "            current_symbols.remove(value)\n",
    "            column.append(value)\n",
    "            \n",
    "        columns.append(column)\n",
    "        \n",
    "    return columns"
   ]
  },
  {
   "cell_type": "code",
   "execution_count": 6,
   "id": "a24eec7d",
   "metadata": {},
   "outputs": [],
   "source": [
    "def print_slot_machine(columns):\n",
    "    for row in range(len(columns[0])):\n",
    "        for i, column in enumerate(columns):\n",
    "            if i != len(columns) -1:\n",
    "                print(column[row], end=\" | \")\n",
    "            else:\n",
    "                print(column[row], end=\"\")"
   ]
  },
  {
   "cell_type": "code",
   "execution_count": 7,
   "id": "85125ef9",
   "metadata": {},
   "outputs": [],
   "source": [
    "def deposit():\n",
    "    while True:\n",
    "        amount = input(\"What would you like to deposit? $\")\n",
    "        if amount.isdigit():\n",
    "            amount = int(amount)\n",
    "            if amount > 0:\n",
    "                break\n",
    "            else:\n",
    "                print(\"Amount must be greater than 0.\")\n",
    "        else:\n",
    "            print(\"Please enter a number\")\n",
    "    return amount"
   ]
  },
  {
   "cell_type": "code",
   "execution_count": 8,
   "id": "bc250177",
   "metadata": {},
   "outputs": [],
   "source": [
    "def get_number_of_lines():\n",
    "        while True:\n",
    "            lines = input(\n",
    "                \"Enter the number of lines to bet on (1-\" + str(MAX_LINES) + \")? \")\n",
    "            if lines.isdigit():\n",
    "                lines = int(lines)\n",
    "                if 1 <= lines <= MAX_LINES:\n",
    "                    break\n",
    "                else:\n",
    "                    print(\"Enter a valid number of lines.\")\n",
    "            else:\n",
    "                print(\"Please enter a number.\")\n",
    "            \n",
    "        return lines\n",
    "    "
   ]
  },
  {
   "cell_type": "code",
   "execution_count": 9,
   "id": "23a3b9bb",
   "metadata": {},
   "outputs": [],
   "source": [
    "def get_bet():\n",
    "    while True:\n",
    "        amount = input(\"What would you like to bet on each line? $\")\n",
    "        if amount.isdigit():\n",
    "            amount = int(amount)\n",
    "            if amount > 0:\n",
    "                break\n",
    "            else:\n",
    "                print(f\"Amount must be between ${MIN_BET} - ${MAX_BET}.\")\n",
    "        else:\n",
    "            print(\"Please enter a number\")\n",
    "    return amount\n"
   ]
  },
  {
   "cell_type": "code",
   "execution_count": 10,
   "id": "0cf0e2f6",
   "metadata": {},
   "outputs": [
    {
     "name": "stdout",
     "output_type": "stream",
     "text": [
      "What would you like to deposit? $90\n",
      "Enter the number of lines to bet on (1-3)? 2\n",
      "What would you like to bet on each line? $15\n",
      "C | B | CB | D | DD | A | B"
     ]
    }
   ],
   "source": [
    "def main():\n",
    "    balance = deposit()\n",
    "    lines = get_number_of_lines()\n",
    "    while True:\n",
    "        bet = get_bet()\n",
    "        total_bet = bet * lines\n",
    "        \n",
    "        if total_bet > balance:\n",
    "            print(f\"You do not have enough to bet that amount, your current balance is: ${balance}\")\n",
    "        else:\n",
    "            break\n",
    "        \n",
    "        print(f\"You are betting ${bet} on {lines} lines. Total bet is equal to: ${total_bet}\")\n",
    "    \n",
    "    slots = get_slot_machine_spin(ROWS, COLS, symbol_count)\n",
    "    print_slot_machine(slots)\n",
    "    \n",
    "main()"
   ]
  },
  {
   "cell_type": "code",
   "execution_count": null,
   "id": "cc67d365",
   "metadata": {},
   "outputs": [],
   "source": []
  },
  {
   "cell_type": "code",
   "execution_count": null,
   "id": "1a790faf",
   "metadata": {},
   "outputs": [],
   "source": []
  },
  {
   "cell_type": "code",
   "execution_count": null,
   "id": "acb54580",
   "metadata": {},
   "outputs": [],
   "source": []
  },
  {
   "cell_type": "code",
   "execution_count": null,
   "id": "83139072",
   "metadata": {},
   "outputs": [],
   "source": []
  },
  {
   "cell_type": "code",
   "execution_count": null,
   "id": "be09cb26",
   "metadata": {},
   "outputs": [],
   "source": []
  },
  {
   "cell_type": "code",
   "execution_count": null,
   "id": "2ce3f387",
   "metadata": {},
   "outputs": [],
   "source": []
  },
  {
   "cell_type": "code",
   "execution_count": null,
   "id": "604cb8f7",
   "metadata": {},
   "outputs": [],
   "source": []
  }
 ],
 "metadata": {
  "kernelspec": {
   "display_name": "Python 3 (ipykernel)",
   "language": "python",
   "name": "python3"
  },
  "language_info": {
   "codemirror_mode": {
    "name": "ipython",
    "version": 3
   },
   "file_extension": ".py",
   "mimetype": "text/x-python",
   "name": "python",
   "nbconvert_exporter": "python",
   "pygments_lexer": "ipython3",
   "version": "3.11.5"
  }
 },
 "nbformat": 4,
 "nbformat_minor": 5
}
